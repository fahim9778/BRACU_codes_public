{
 "cells": [
  {
   "cell_type": "markdown",
   "metadata": {},
   "source": [
    "**set A Tracing**"
   ]
  },
  {
   "cell_type": "code",
   "execution_count": 2,
   "metadata": {},
   "outputs": [
    {
     "name": "stdout",
     "output_type": "stream",
     "text": [
      "19 1 3\n",
      "4 11 23\n",
      "27 11 41\n"
     ]
    }
   ],
   "source": [
    "class MidA:\n",
    "    def __init__(self):\n",
    "        self.x = 4\n",
    "        self.y = 1\n",
    "        self.sum = 3\n",
    "\n",
    "    def methodA(self, x):\n",
    "        self.y = self.sum + self.x + x\n",
    "        self.sum = x + self.y\n",
    "        d = MidA()\n",
    "        d.sum = self.sum + self.methodB(d)\n",
    "        print(self.x, self.y, self.sum)\n",
    "    \n",
    "    def methodB(self, t, z = 0):\n",
    "       y = 3\n",
    "       t.x = self.x + self.sum\n",
    "       self.sum = t.x + t.y + y\n",
    "       print(t.x, t.y, t.sum)\n",
    "       if z == 0:\n",
    "           return t.sum\n",
    "\n",
    "a = MidA()\n",
    "a.methodA(4)\n",
    "a.methodB(a, 99)"
   ]
  },
  {
   "cell_type": "code",
   "execution_count": 3,
   "metadata": {},
   "outputs": [
    {
     "name": "stdout",
     "output_type": "stream",
     "text": [
      "23 0 5\n",
      "3 14 26\n",
      "29 14 46\n"
     ]
    }
   ],
   "source": [
    "class MidB:\n",
    "    def __init__(self):\n",
    "        self.x = 3\n",
    "        self.y = 0\n",
    "        self.sum = 5\n",
    "\n",
    "    def methodA(self, x):\n",
    "        self.y = self.sum + self.x + x\n",
    "        self.sum = x + self.y\n",
    "        d = MidB()\n",
    "        d.sum = self.sum + self.methodB(d)\n",
    "        print(self.x, self.y, self.sum)\n",
    "    \n",
    "    def methodB(self, t, z = 0):\n",
    "       y = 3\n",
    "       t.x = self.x + self.sum\n",
    "       self.sum = t.x + t.y + y\n",
    "       print(t.x, t.y, t.sum)\n",
    "       if z == 0:\n",
    "           return t.sum\n",
    "\n",
    "b = MidB()\n",
    "b.methodA(6)\n",
    "b.methodB(b, 99)"
   ]
  }
 ],
 "metadata": {
  "kernelspec": {
   "display_name": "Python 3.10.4 64-bit",
   "language": "python",
   "name": "python3"
  },
  "language_info": {
   "codemirror_mode": {
    "name": "ipython",
    "version": 3
   },
   "file_extension": ".py",
   "mimetype": "text/x-python",
   "name": "python",
   "nbconvert_exporter": "python",
   "pygments_lexer": "ipython3",
   "version": "3.10.4"
  },
  "orig_nbformat": 4,
  "vscode": {
   "interpreter": {
    "hash": "64540e13117c0aced699c2fe7bf875df1d08afdea6a3b3409e16615ccf95e68f"
   }
  }
 },
 "nbformat": 4,
 "nbformat_minor": 2
}
