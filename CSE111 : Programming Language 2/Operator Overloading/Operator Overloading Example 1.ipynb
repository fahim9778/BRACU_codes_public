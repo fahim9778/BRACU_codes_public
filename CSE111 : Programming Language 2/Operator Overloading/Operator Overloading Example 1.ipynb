{
 "cells": [
  {
   "cell_type": "markdown",
   "metadata": {},
   "source": [
    "**Create a class `Data` to demonstrate operator overloading python**"
   ]
  },
  {
   "cell_type": "code",
   "execution_count": 22,
   "metadata": {},
   "outputs": [],
   "source": [
    "class Data:\n",
    "    def __init__(self, value):\n",
    "        self.value = value\n",
    "    \n",
    "    def __repr__(self):\n",
    "        return str(self.value)\n",
    "\n",
    "    def __add__(self, other):\n",
    "        return type(self) (self.value + other.value)\n",
    "\n",
    "    def __truediv__(self, other):\n",
    "        return type(self) (self.value / other.value)\n",
    "\n",
    "    def __floordiv__(self, other):\n",
    "        return type(self) (self.value // other.value)"
   ]
  },
  {
   "cell_type": "code",
   "execution_count": 23,
   "metadata": {},
   "outputs": [
    {
     "name": "stdout",
     "output_type": "stream",
     "text": [
      "30\n",
      "10\n",
      "0.041666666666666664\n"
     ]
    }
   ],
   "source": [
    "d1 = Data(10)\n",
    "d2 = Data(20)\n",
    "\n",
    "addition_res1 = d1 + d2\n",
    "print(addition_res1)\n",
    "\n",
    "\n",
    "d11 = Data(1)\n",
    "d22 = Data(2)\n",
    "d33 = Data(3)\n",
    "d44 = Data(4)\n",
    "\n",
    "addition_res2 = d11 + d22 + d33 + d44\n",
    "print(addition_res2)\n",
    "\n",
    "division_res3 = d11 / d22 / d33 / d44\n",
    "print(division_res3)\n",
    "\n",
    "# USEFUL LINK\n",
    "# Safe Operation with Multiple operands:  https://stackoverflow.com/a/39513296/8622023\n",
    "\n",
    "# reverse addition: https://www.reddit.com/r/learnpython/comments/3cvgpi/can_someone_explain_radd_to_me_in_simple_terms_i/?utm_source=share&utm_medium=web2x&context=3"
   ]
  },
  {
   "cell_type": "code",
   "execution_count": 24,
   "metadata": {},
   "outputs": [
    {
     "name": "stdout",
     "output_type": "stream",
     "text": [
      "CSE111TurtlePeople\n"
     ]
    }
   ],
   "source": [
    "d7 = Data(\"CSE\")\n",
    "d8 = Data(\"111\")\n",
    "d9 = Data(\"Turtle\")\n",
    "d10 = Data(\"People\")\n",
    "\n",
    "addition_res4 = d7 + d8 + d9 + d10\n",
    "print(addition_res4)"
   ]
  }
 ],
 "metadata": {
  "kernelspec": {
   "display_name": "Python 3.10.4 64-bit",
   "language": "python",
   "name": "python3"
  },
  "language_info": {
   "codemirror_mode": {
    "name": "ipython",
    "version": 3
   },
   "file_extension": ".py",
   "mimetype": "text/x-python",
   "name": "python",
   "nbconvert_exporter": "python",
   "pygments_lexer": "ipython3",
   "version": "3.10.4"
  },
  "orig_nbformat": 4,
  "vscode": {
   "interpreter": {
    "hash": "4f946df053fbf2b937619d3c5458e7af74262f9a954d8797ba0b27400bcafe06"
   }
  }
 },
 "nbformat": 4,
 "nbformat_minor": 2
}
