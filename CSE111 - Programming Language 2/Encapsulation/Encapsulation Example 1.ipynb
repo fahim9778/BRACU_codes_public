{
 "cells": [
  {
   "cell_type": "code",
   "execution_count": 3,
   "metadata": {},
   "outputs": [],
   "source": [
    "class Employee:\n",
    "    def __init__(self, name, age, email):\n",
    "        self.name = name\n",
    "        self.age = age\n",
    "        self.email = email\n",
    "        self.__salary = 10000 ## Private Varibale; Not accessible & Modifiable by an outsider\n",
    "\n",
    "    def printDetails(self):\n",
    "        print(f\"Name: {self.name}, Age: {self.age}, Email: {self.email}, Salary: {self.__salary}\")\n",
    "    \n",
    "    def getSalary(self):\n",
    "        print(f\"Salary: {self.__salary}\")\n",
    "    \n",
    "    def setSalary(self, salary):\n",
    "        self.__salary = salary"
   ]
  },
  {
   "cell_type": "code",
   "execution_count": 4,
   "metadata": {},
   "outputs": [
    {
     "name": "stdout",
     "output_type": "stream",
     "text": [
      "Name: John, Age: 25, Email: john@abc.com, Salary: 10000\n",
      "John\n",
      "John Watson\n",
      "Name: John Watson, Age: 25, Email: john@abc.com, Salary: 10000\n",
      "Name: John Watson, Age: 30, Email: john@abc.com, Salary: 10000\n",
      "15000\n",
      "Name: John Watson, Age: 30, Email: john@abc.com, Salary: 10000\n",
      "15000\n"
     ]
    }
   ],
   "source": [
    "emp1 = Employee(\"John\", 25, \"john@abc.com\")\n",
    "emp1.printDetails()\n",
    "\n",
    "print(emp1.name)\n",
    "emp1.name = \"John Watson\"\n",
    "print(emp1.name)\n",
    "emp1.printDetails()\n",
    "\n",
    "emp1.age = 30\n",
    "emp1.printDetails()\n",
    "\n",
    "# emp1.salary = 5000\n",
    "# emp1.printDetails()\n",
    "\n",
    "emp1.__salary = 15000 ##This has no effect on emp1's info\n",
    "print(emp1.__salary)\n",
    "\n",
    "emp1.printDetails()\n",
    "print(emp1.__salary)"
   ]
  },
  {
   "cell_type": "code",
   "execution_count": 8,
   "metadata": {},
   "outputs": [
    {
     "name": "stdout",
     "output_type": "stream",
     "text": [
      "30\n",
      "5\n",
      "10\n",
      "5\n"
     ]
    }
   ],
   "source": [
    "class Number:\n",
    "    def __init__(self, num):\n",
    "        self.__num = num\n",
    "    \n",
    "    def __add__(self, other):\n",
    "        return (self.__num + other.__num)\n",
    "\n",
    "    def __sub__(self, other):\n",
    "        return (self.__num - other.__num)\n",
    "\n",
    "    def __str__(self):\n",
    "        return str(self.__num)\n",
    "    \n",
    "n1 = Number(10)\n",
    "n2 = Number(20)\n",
    "print(n1 + n2)"
   ]
  },
  {
   "cell_type": "markdown",
   "metadata": {},
   "source": [
    "### Write a class called Triangle with the required constructor and methods to get the following output.\n",
    "\n",
    "**Subtasks**:\n",
    "1.  Create a class called **`Triangle`**.\n",
    "2.  Create the required constructor. **Use Encapsulation to protect the variables**. *[Hint: Assign the variables in `private`]* \n",
    "4. Create a method called `area()` to calculate the area of triangles.\n",
    "5. Handle the **operator overloading** to create a new Traingle object by adding or subtracting multiple other triangle objects. "
   ]
  },
  {
   "cell_type": "code",
   "execution_count": 2,
   "metadata": {},
   "outputs": [
    {
     "name": "stdout",
     "output_type": "stream",
     "text": [
      "First Triangle Base: 10\n",
      "First Triangle Height: 5\n",
      "First Triangle area: 25.0\n",
      "Second Triangle Base: 5\n",
      "Second Triangle Height: 3\n",
      "Second Triangle area: 7.5\n",
      "Third Triangle Base: 5\n",
      "Third Triangle Height: 2\n",
      "Third Triangle area: 5.0\n"
     ]
    }
   ],
   "source": [
    "class Triangle:\n",
    "    def __init__(self, base = 0, height = 0):\n",
    "        self.__base = base\n",
    "        self.__height = height\n",
    "    \n",
    "    def getBase(self):\n",
    "        return self.__base\n",
    "    \n",
    "    def getHeight(self):\n",
    "        return self.__height\n",
    "\n",
    "    def area(self):\n",
    "        return 0.5 * self.__base * self.__height\n",
    "\n",
    "    def __add__(self, other):\n",
    "        return type(self) (self.__base + other.__base, self.__height + other.__height)\n",
    "\n",
    "    def __sub__(self, other):\n",
    "        return type(self) (self.__base - other.__base, self.__height - other.__height)\n",
    "    \n",
    "    def __str__(self):\n",
    "        return f\"Base: {self.__base}, Height: {self.__height}\"\n",
    "\n",
    "\n",
    "# Sample Driver Code\n",
    "\n",
    "t1 = Triangle(10, 5)\n",
    "print(\"First Triangle Base:\" , t1.getBase())\n",
    "print(\"First Triangle Height:\" , t1.getHeight())\n",
    "print(\"First Triangle area:\" ,t1.area())\n",
    " \n",
    "t2 = Triangle(5, 3)\n",
    "print(\"Second Triangle Base:\" , t2.getBase())\n",
    "print(\"Second Triangle Height:\" , t2.getHeight())\n",
    "print(\"Second Triangle area:\" ,t2.area())\n",
    " \n",
    "t3 = t1 - t2 \n",
    "print(\"Third Triangle Base:\" , t3.getBase())\n",
    "print(\"Third Triangle Height:\" , t3.getHeight())\n",
    "print(\"Third Triangle area:\" ,t3.area()) "
   ]
  }
 ],
 "metadata": {
  "kernelspec": {
   "display_name": "Python 3.10.4 64-bit",
   "language": "python",
   "name": "python3"
  },
  "language_info": {
   "codemirror_mode": {
    "name": "ipython",
    "version": 3
   },
   "file_extension": ".py",
   "mimetype": "text/x-python",
   "name": "python",
   "nbconvert_exporter": "python",
   "pygments_lexer": "ipython3",
   "version": "3.10.4"
  },
  "orig_nbformat": 4,
  "vscode": {
   "interpreter": {
    "hash": "64540e13117c0aced699c2fe7bf875df1d08afdea6a3b3409e16615ccf95e68f"
   }
  }
 },
 "nbformat": 4,
 "nbformat_minor": 2
}
