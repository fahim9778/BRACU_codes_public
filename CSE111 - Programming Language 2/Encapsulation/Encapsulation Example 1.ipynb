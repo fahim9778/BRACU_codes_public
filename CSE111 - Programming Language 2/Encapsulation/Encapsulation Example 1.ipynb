{
 "cells": [
  {
   "cell_type": "code",
   "execution_count": 3,
   "metadata": {},
   "outputs": [],
   "source": [
    "class Employee:\n",
    "    def __init__(self, name, age, email):\n",
    "        self.name = name\n",
    "        self.age = age\n",
    "        self.email = email\n",
    "        self.__salary = 10000 ## Private Varibale; Not accessible & Modifiable by an outsider\n",
    "\n",
    "    def printDetails(self):\n",
    "        print(f\"Name: {self.name}, Age: {self.age}, Email: {self.email}, Salary: {self.__salary}\")"
   ]
  },
  {
   "cell_type": "code",
   "execution_count": 15,
   "metadata": {},
   "outputs": [
    {
     "name": "stdout",
     "output_type": "stream",
     "text": [
      "Name: John, Age: 25, Email: john@abc.com, Salary: 10000\n",
      "John\n",
      "John Watson\n",
      "Name: John Watson, Age: 25, Email: john@abc.com, Salary: 10000\n",
      "Name: John Watson, Age: 30, Email: john@abc.com, Salary: 10000\n",
      "15000\n",
      "Name: John Watson, Age: 30, Email: john@abc.com, Salary: 10000\n",
      "15000\n"
     ]
    }
   ],
   "source": [
    "emp1 = Employee(\"John\", 25, \"john@abc.com\")\n",
    "emp1.printDetails()\n",
    "\n",
    "print(emp1.name)\n",
    "emp1.name = \"John Watson\"\n",
    "print(emp1.name)\n",
    "emp1.printDetails()\n",
    "\n",
    "emp1.age = 30\n",
    "emp1.printDetails()\n",
    "\n",
    "# emp1.salary = 5000\n",
    "# emp1.printDetails()\n",
    "\n",
    "emp1.__salary = 15000 ##This has no effect on emp1's info\n",
    "print(emp1.__salary)\n",
    "\n",
    "emp1.printDetails()\n",
    "print(emp1.__salary)"
   ]
  }
 ],
 "metadata": {
  "kernelspec": {
   "display_name": "Python 3.10.4 64-bit",
   "language": "python",
   "name": "python3"
  },
  "language_info": {
   "codemirror_mode": {
    "name": "ipython",
    "version": 3
   },
   "file_extension": ".py",
   "mimetype": "text/x-python",
   "name": "python",
   "nbconvert_exporter": "python",
   "pygments_lexer": "ipython3",
   "version": "3.10.4"
  },
  "orig_nbformat": 4,
  "vscode": {
   "interpreter": {
    "hash": "64540e13117c0aced699c2fe7bf875df1d08afdea6a3b3409e16615ccf95e68f"
   }
  }
 },
 "nbformat": 4,
 "nbformat_minor": 2
}
