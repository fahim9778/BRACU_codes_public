{
 "cells": [
  {
   "cell_type": "markdown",
   "metadata": {},
   "source": [
    "**Create a class `Data` to demonstrate operator overloading python**"
   ]
  },
  {
   "cell_type": "code",
   "execution_count": 37,
   "metadata": {},
   "outputs": [],
   "source": [
    "class Data:\n",
    "    def __init__(self, value):\n",
    "        self.value = value\n",
    "    \n",
    "    def __repr__(self):\n",
    "        return str(self.value)\n",
    "        \n",
    "    def __add__(self, other):\n",
    "        return type(self) (self.value + other.value)\n",
    "\n",
    "    def __truediv__(self, other):\n",
    "        return type(self) (self.value / other.value)\n",
    "\n",
    "    def __floordiv__(self, other):\n",
    "        return type(self) (self.value // other.value)"
   ]
  },
  {
   "cell_type": "code",
   "execution_count": 38,
   "metadata": {},
   "outputs": [
    {
     "name": "stdout",
     "output_type": "stream",
     "text": [
      "30\n",
      "10\n",
      "0.041666666666666664\n"
     ]
    }
   ],
   "source": [
    "d1 = Data(10)\n",
    "d2 = Data(20)\n",
    "\n",
    "addition_res1 = d1 + d2\n",
    "print(addition_res1)\n",
    "\n",
    "\n",
    "d11 = Data(1)\n",
    "d22 = Data(2)\n",
    "d33 = Data(3)\n",
    "d44 = Data(4)\n",
    "\n",
    "addition_res2 = d11 + d22 + d33 + d44\n",
    "print(addition_res2)\n",
    "\n",
    "division_res3 = d11 / d22 / d33 / d44\n",
    "print(division_res3)\n",
    "\n",
    "# USEFUL LINK\n",
    "# Safe Operation with Multiple operands:  https://stackoverflow.com/a/39513296/8622023\n",
    "\n",
    "# reverse addition: https://www.reddit.com/r/learnpython/comments/3cvgpi/can_someone_explain_radd_to_me_in_simple_terms_i/?utm_source=share&utm_medium=web2x&context=3"
   ]
  },
  {
   "cell_type": "code",
   "execution_count": 39,
   "metadata": {},
   "outputs": [
    {
     "name": "stdout",
     "output_type": "stream",
     "text": [
      "CSE111TurtlePeople\n"
     ]
    }
   ],
   "source": [
    "d7 = Data(\"CSE\")\n",
    "d8 = Data(\"111\")\n",
    "d9 = Data(\"Turtle\")\n",
    "d10 = Data(\"People\")\n",
    "\n",
    "addition_res4 = d7 + d8 + d9 + d10\n",
    "print(addition_res4)"
   ]
  },
  {
   "cell_type": "markdown",
   "metadata": {},
   "source": [
    "**Create a class `Bill` to demonstrate more operator overloading python**"
   ]
  },
  {
   "cell_type": "code",
   "execution_count": 45,
   "metadata": {},
   "outputs": [],
   "source": [
    "class Bill:\n",
    "    def __init__(self, x):\n",
    "        self.value = x\n",
    "\n",
    "    def __str__(self):\n",
    "        return f\"{self.value}\"\n",
    "    \n",
    "    def __add__(self, other):\n",
    "        if isinstance(other, int):\n",
    "            return type(self)(self.value + other)\n",
    "        elif isinstance(self, int):\n",
    "            return type(self)(self + other.value)\n",
    "        else:\n",
    "            return type(self)(self.value + other.value)\n",
    "\n",
    "    def __lt__(self, other):\n",
    "        if self.value < other.value:\n",
    "            return True\n",
    "        else:\n",
    "            return False\n",
    "\n",
    "    def __gt__(self, other):\n",
    "        return self.value > other.value"
   ]
  },
  {
   "cell_type": "code",
   "execution_count": 46,
   "metadata": {},
   "outputs": [
    {
     "name": "stdout",
     "output_type": "stream",
     "text": [
      "810\n",
      "600\n",
      "False\n"
     ]
    }
   ],
   "source": [
    "b1 = Bill(100)\n",
    "b2 = Bill(200)\n",
    "b3 = Bill(300)\n",
    "b4 = Bill(400)\n",
    "b5 = Bill(500)\n",
    "\n",
    "bill_add = b1 + b2 + 10 + b5\n",
    "print(bill_add)\n",
    "\n",
    "bill_add_with_int = b1 + 500\n",
    "print(bill_add_with_int)\n",
    "\n",
    "# bill_add_with_int_v2 = 500 + b1\n",
    "# print(bill_add_with_int_v2)\n",
    "\n",
    "print(b1 > b2 < b4 < b5)"
   ]
  },
  {
   "cell_type": "code",
   "execution_count": 47,
   "metadata": {},
   "outputs": [
    {
     "name": "stdout",
     "output_type": "stream",
     "text": [
      "False\n",
      "False\n"
     ]
    },
    {
     "data": {
      "text/plain": [
       "False"
      ]
     },
     "execution_count": 47,
     "metadata": {},
     "output_type": "execute_result"
    }
   ],
   "source": [
    "books = ['A', \"B\", 'C']\n",
    "print(isinstance(books, tuple))\n",
    "\n",
    "if(type(books)) == tuple:\n",
    "    print(True)\n",
    "else:\n",
    "    print(False)"
   ]
  }
 ],
 "metadata": {
  "kernelspec": {
   "display_name": "Python 3.10.4 64-bit",
   "language": "python",
   "name": "python3"
  },
  "language_info": {
   "codemirror_mode": {
    "name": "ipython",
    "version": 3
   },
   "file_extension": ".py",
   "mimetype": "text/x-python",
   "name": "python",
   "nbconvert_exporter": "python",
   "pygments_lexer": "ipython3",
   "version": "3.10.4"
  },
  "orig_nbformat": 4,
  "vscode": {
   "interpreter": {
    "hash": "4f946df053fbf2b937619d3c5458e7af74262f9a954d8797ba0b27400bcafe06"
   }
  }
 },
 "nbformat": 4,
 "nbformat_minor": 2
}
